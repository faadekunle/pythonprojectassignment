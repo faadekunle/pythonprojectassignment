{
 "cells": [
  {
   "cell_type": "markdown",
   "metadata": {},
   "source": [
    "# Snake"
   ]
  },
  {
   "cell_type": "markdown",
   "metadata": {},
   "source": [
    "Complete the Snake project based on **#TODO**'s."
   ]
  },
  {
   "cell_type": "markdown",
   "metadata": {},
   "source": [
    "https://docs.python.org/3/library/turtle.html#module-turtle"
   ]
  },
  {
   "cell_type": "code",
   "execution_count": 1,
   "metadata": {},
   "outputs": [],
   "source": [
    "\n",
    "#TODO - import the packages: turtle, time and random\n",
    "import turtle\n",
    "import time\n",
    "import random"
   ]
  },
  {
   "cell_type": "code",
   "execution_count": 89,
   "metadata": {},
   "outputs": [],
   "source": [
    "# global variable\n",
    "\n",
    "window = None\n",
    "snake = []\n",
    "head = None\n",
    "\n",
    "direction = 'down'\n",
    "delay_time = 0.1\n",
    "\n",
    "food = None\n",
    "food_color = ''\n",
    "\n",
    "TURTLE_SIZE = 20\n",
    "WIDTH = 600\n",
    "HEIGHT = 600\n",
    "\n",
    "X_RANGE = (WIDTH - TURTLE_SIZE) / 2\n",
    "Y_RANGE = (HEIGHT - TURTLE_SIZE) / 2\n",
    "\n",
    "pen = None\n",
    "score = 0\n",
    "high_score = 0\n",
    "\n",
    "#TODO - define shapes dictionary\n",
    "shapes = {\n",
    "    0: 'circle',\n",
    "    1: 'square',\n",
    "    2: 'triangle'\n",
    "}\n",
    "#TODO - define colors dictionary\n",
    "colors = {\n",
    "    0: 'gold',\n",
    "    1: 'lime green',\n",
    "    2: 'dark magenta',\n",
    "    3: 'red',\n",
    "    4: 'dark orange',\n",
    "    5: 'deep sky blue',\n",
    "    6: 'deep pink',\n",
    "    7: 'light sea green'\n",
    "}\n",
    "food_color = ''\n",
    "# https://trinket.io/docs/colors"
   ]
  },
  {
   "cell_type": "code",
   "execution_count": 90,
   "metadata": {},
   "outputs": [],
   "source": [
    "# function to set up the main screen\n",
    "\n",
    "def set_screen():\n",
    "    \"\"\"Sets the main screen.\"\"\"\n",
    "    \n",
    "    global window\n",
    "    \n",
    "    #TODO - create the window (Screen) and give it; title, background, width-height. And set the tracer.\n",
    "    \n",
    "    window = turtle.Screen()\n",
    "    window.title('Hands-On Snake')\n",
    "    window.bgcolor('white smoke')\n",
    "    window.setup(width=WIDTH, height=HEIGHT)\n",
    "    window.tracer(0) # False"
   ]
  },
  {
   "cell_type": "code",
   "execution_count": 91,
   "metadata": {},
   "outputs": [],
   "source": [
    "# function to listen screen events\n",
    "\n",
    "def listen_events():\n",
    "    window.listen()\n",
    "    \n",
    "    #TODO - listen Up, Down, Left and Right key press events\n",
    "\n",
    "    window.onkeypress(set_up_direction, 'Up')\n",
    "    window.onkeypress(set_down_direction, 'Down')\n",
    "    window.onkeypress(set_left_direction, 'Left')\n",
    "    window.onkeypress(set_right_direction, 'Right')"
   ]
  },
  {
   "cell_type": "code",
   "execution_count": 92,
   "metadata": {},
   "outputs": [],
   "source": [
    "# keyboard functions\n",
    "\n",
    "#TODO - complete the functions\n",
    "\n",
    "def set_up_direction():\n",
    "    #TODO - set the global direction to up\n",
    "    global direction\n",
    "    if direction != 'down':\n",
    "        direction = 'up'\n",
    "    \n",
    "def set_down_direction():\n",
    "    #TODO - set the global direction to down\n",
    "    global direction\n",
    "    if direction != 'up':\n",
    "        direction = 'down'\n",
    "def set_left_direction():\n",
    "    #TODO - set the global direction to left\n",
    "    global direction\n",
    "    if direction != 'right':\n",
    "        direction = 'left'\n",
    "def set_right_direction():\n",
    "    #TODO - set the global direction to right\n",
    "    global direction\n",
    "    if direction != 'left':\n",
    "        direction = 'right'"
   ]
  },
  {
   "cell_type": "code",
   "execution_count": 93,
   "metadata": {},
   "outputs": [],
   "source": [
    "# create the head\n",
    "\n",
    "def create_head(is_initial=True):\n",
    "    \"\"\"Creates the snake head.\"\"\"\n",
    "    \n",
    "    global head, snake\n",
    "    \n",
    "    # create the head\n",
    "    \n",
    "    #TODO - create the head tirtle, give it a shape and a color. \n",
    "    head = turtle.Turtle()\n",
    "    head.shape(shapes[1])  # 20 x 20\n",
    "    head.speed(0)\n",
    "    head.penup()\n",
    "    #TODO - set the position for the head\n",
    "    if is_initial:\n",
    "        head.goto(0, 200)\n",
    "    \n",
    "    \n",
    "    #TODO - append the head into snake list\n",
    "     snake.append(head)"
   ]
  },
  {
   "cell_type": "code",
   "execution_count": 94,
   "metadata": {},
   "outputs": [],
   "source": [
    "# create the score\n",
    "\n",
    "def create_score():\n",
    "    \n",
    "    global pen\n",
    "    \n",
    "    # create the pen turtle\n",
    "    #TODO - create the pen turtle and place it on screen\n",
    "    pen = turtle.Turtle()\n",
    "    pen.penup()\n",
    "    pen.hideturtle()    \n",
    "    pen.goto(0, Y_RANGE - 2 * TURTLE_SIZE)\n",
    "    pen.color('black')\n",
    "     \n",
    "    # initialize the score\n",
    "    #TODO - call the update_score function to initialize the pen\n",
    "    update_score(0)"
   ]
  },
  {
   "cell_type": "code",
   "execution_count": 95,
   "metadata": {},
   "outputs": [],
   "source": [
    "# update the score\n",
    "\n",
    "def update_score(score_increment, is_reset=False):\n",
    "    \n",
    "    #TODO - update the global score and high_score variables, based on is_reset\n",
    "    global score, high_score\n",
    "    \n",
    "    if is_reset:\n",
    "        score = 0\n",
    "    else:\n",
    "        score += score_increment\n",
    "    #TODO - check if the score is greater than the high_score\n",
    "    if score > high_score:\n",
    "        high_score = score\n",
    "    #TODO - clear the pen\n",
    "    pen.clear()\n",
    "    pen.write(\"Score: {0}  |  High Score: {1}\".format(score, high_score),\n",
    "              align='center',\n",
    "              font=('Arial', 16, 'normal'))\n",
    "    "
   ]
  },
  {
   "cell_type": "code",
   "execution_count": 96,
   "metadata": {},
   "outputs": [],
   "source": [
    "# function to update screen\n",
    "\n",
    "def update_screen():\n",
    "    \n",
    "    while window._RUNNING:\n",
    "\n",
    "        # side collisions\n",
    "        #TODO - call check_border_collisions function\n",
    "        check_border_collisions()\n",
    "        # body collisions\n",
    "        #TODO - call check_body_collisions function\n",
    "         check_body_collisions()\n",
    "        # move the head\n",
    "        #TODO - call move function\n",
    "        move()    \n",
    "        # delay\n",
    "        #TODO - call delay function with global delay_time\n",
    "         delay(delay_time)\n",
    "        # create the food\n",
    "        #TODO - call add_food function\n",
    "        add_food()\n",
    "        # eat the food\n",
    "        #TODO - call eat_food function\n",
    "        eat_food()\n",
    "        # get rid of upate error\n",
    "        window.update()\n"
   ]
  },
  {
   "cell_type": "code",
   "execution_count": 97,
   "metadata": {},
   "outputs": [],
   "source": [
    "# function for border collisions\n",
    "\n",
    "def check_border_collisions():\n",
    "    \n",
    "    # if the head position (x, y) is out the ranges (X_RANGE, Y_RANGE) -> we collide\n",
    "    \n",
    "    #TODO - get x and y coordinates of the head turtle\n",
    "    x = head.xcor()\n",
    "    y = head.ycor()\n",
    "    if  #TODO decide the collision x <= -X_RANGE or x >= X_RANGE or y <= -Y_RANGE or y >= Y_RANGE :\n",
    "        \n",
    "        # set direction\n",
    "        #TODO - set the global direction variable to 'stop'\n",
    "         global direction\n",
    "        direction = 'stop'\n",
    "        # reset screen after 1 second\n",
    "        #TODO - call delay function with 1 seconds\n",
    "        delay(1)\n",
    "        #TODO - call reset function\n",
    "        reset()"
   ]
  },
  {
   "cell_type": "code",
   "execution_count": 98,
   "metadata": {},
   "outputs": [],
   "source": [
    "# body collisions\n",
    "\n",
    "def check_body_collisions():\n",
    "    \n",
    "    # if the distance betwwen the head and any of the segments is less than the TURTLE_SIZE\n",
    "    # then this means we collide\n",
    "\n",
    "    for ...#TODO - get all turtles and indices for the snake...:\n",
    "        \n",
    "        # exclude head \n",
    "        if i, t in enumerate(snake)#TODO - exclude head index:\n",
    "            \n",
    "            if ... head.distance(t) < TURTLE_SIZE - 1#TODO - get the distance between the head and the current turtle in the loop... < TURTLE_SIZE - 1:\n",
    "                \n",
    "                # set direction\n",
    "                #TODO - set the global direction variable to 'stop'\n",
    "                    global direction\n",
    "                    direction = 'stop'\n",
    "                # reset screen after 1 second\n",
    "                #TODO - call delay function with 1 seconds\n",
    "                  delay(1)\n",
    "                #TODO - call reset function\n",
    "                  reset()"
   ]
  },
  {
   "cell_type": "code",
   "execution_count": 99,
   "metadata": {},
   "outputs": [],
   "source": [
    "# reset screen fn\n",
    "\n",
    "def reset():\n",
    "    \n",
    "    # hide the segments of snake\n",
    "    for t in snake:\n",
    "        t.goto(40000, 4000)\n",
    "    \n",
    "    # clear the snake\n",
    "    snake.clear()\n",
    "    \n",
    "    # create a new head\n",
    "    #TODO - call create_head function with is_initial parameter being False\n",
    "     create_head(is_initial=False)\n",
    "    # reset the score\n",
    "    #TODO - call update_score function with score_increment as 0 and is_reset as True\n",
    "     update_score(0, is_reset=True)"
   ]
  },
  {
   "cell_type": "code",
   "execution_count": 100,
   "metadata": {},
   "outputs": [],
   "source": [
    "# move function\n",
    "\n",
    "def move():\n",
    "    if window._RUNNING:\n",
    "        \n",
    "        # move only if the direction is not stop\n",
    "        if direction != 'stop':\n",
    "            # move the segments\n",
    "            #TODO - call move_segments function\n",
    "             move_segments()\n",
    "            # move the head\n",
    "            #TODO - call move_head function\n",
    "             move_head() "
   ]
  },
  {
   "cell_type": "code",
   "execution_count": 101,
   "metadata": {},
   "outputs": [],
   "source": [
    "# fn to move the head\n",
    "\n",
    "def move_head():\n",
    "    \n",
    "    # get current coordinate\n",
    "    #TODO - get x and y coordinates of the head turtle\n",
    "     x = head.xcor()\n",
    "    y = head.ycor()\n",
    "\n",
    "    if direction == 'up':\n",
    "        head.sety(y + TURTLE_SIZE)\n",
    "    elif direction == 'down':\n",
    "        #TODO - set the y coordinate of the head appriopliately -> remember the turtle moves TURTLE_SIZE pixels\n",
    "        head.sety(y - TURTLE_SIZE)\n",
    "    elif direction == 'left':\n",
    "        #TODO - set the x coordinate of the head appriopliately -> remember the turtle moves TURTLE_SIZE pixels\n",
    "        head.setx(x - TURTLE_SIZE)\n",
    "    elif direction == 'right':\n",
    "        #TODO - set the x coordinate of the head appriopliately -> remember the turtle moves TURTLE_SIZE pixels\n",
    "        head.setx(x + TURTLE_SIZE)\n"
   ]
  },
  {
   "cell_type": "code",
   "execution_count": 102,
   "metadata": {},
   "outputs": [],
   "source": [
    "# fn to move segments\n",
    "\n",
    "def move_segments():\n",
    "    \n",
    "    # move each segment in reverse order -> from last segment\n",
    "    # move each segment into the position of the previous one\n",
    "    # ignore the head\n",
    "    # start from the last one -> len(snake)-1\n",
    "    # up to head -> 0\n",
    "    # backwards -> -1\n",
    "    \n",
    "    for i in range(len(snake)-1, 0, -1):\n",
    "        #TODO - get the x and y coordinate of the previous segment\n",
    "        x = snake[i-1].xcor()\n",
    "        y = snake[i-1].ycor()\n",
    "        #TODO - place the current turtle in the loop at x and y\n",
    "        snake[i].goto(x, y)"
   ]
  },
  {
   "cell_type": "code",
   "execution_count": 103,
   "metadata": {},
   "outputs": [],
   "source": [
    "# delay function\n",
    "\n",
    "def delay(duration):\n",
    "    time.sleep(duration)\n",
    "    "
   ]
  },
  {
   "cell_type": "code",
   "execution_count": 104,
   "metadata": {},
   "outputs": [],
   "source": [
    "# create food\n",
    "\n",
    "def add_food():\n",
    "    \n",
    "    if window._RUNNING:\n",
    "        \n",
    "        global food\n",
    "        \n",
    "        # create a turtle -> single -> Singleton Pattern\n",
    "        if food == None:\n",
    "            \n",
    "            #TODO - create the food the turtle and give it a random shape\n",
    "            food = turtle.Turtle()\n",
    "            food.shape(get_shape())\n",
    "            food.shapesize(0.5, 0.5)\n",
    "            food.speed(0)\n",
    "            food.penup()\n",
    "            \n",
    "            # color\n",
    "            #TODO - give food turtle a random color\n",
    "            food.color(get_color())\n",
    "            # move the food\n",
    "            #TODO - call move_food function with the food turtle\n",
    "              move_food(food)"
   ]
  },
  {
   "cell_type": "code",
   "execution_count": 105,
   "metadata": {},
   "outputs": [],
   "source": [
    "# function to move the food\n",
    "\n",
    "def move_food(food):\n",
    "    \n",
    "    # x coordinate\n",
    "    x = #TODO - get a random integer between -X_RANGE and X_RANGE\n",
    "    x = random.randint(-X_RANGE, X_RANGE)\n",
    "    # y coordinate\n",
    "    y = #TODO - get a random integer between -Y_RANGE and (Y_RANGE - 2 * TURTLE_SIZE)\n",
    "    y = random.randint(-Y_RANGE, Y_RANGE - 2 * TURTLE_SIZE)\n",
    "    # replace the food\n",
    "    food.goto(x, y)\n",
    "    "
   ]
  },
  {
   "cell_type": "code",
   "execution_count": 106,
   "metadata": {},
   "outputs": [],
   "source": [
    "# function to eat the food\n",
    "\n",
    "def eat_food():\n",
    "    \n",
    "    # check the distance between the head and the food\n",
    "    if head.distance(food) < TURTLE_SIZE - 1:\n",
    "        \n",
    "        # move the fodd\n",
    "        #TODO - call the move_food function with the food\n",
    "         move_food(food)\n",
    "        # change the food shape\n",
    "        #TODO - change the food shape to a random one\n",
    "        food.shape(get_shape())\n",
    "        # create a segment for the snake\n",
    "        #TODO - call create_segment function\n",
    "        create_segment()\n",
    "        # change the fodd color\n",
    "        #TODO - give food turtle a random color\n",
    "        food.color(get_color())\n",
    "        # update score\n",
    "        #TODO - call update_score function with 10 as increment\n",
    "         update_score(10)                       "
   ]
  },
  {
   "cell_type": "code",
   "execution_count": 107,
   "metadata": {},
   "outputs": [],
   "source": [
    "# function to create segment\n",
    "\n",
    "def create_segment():\n",
    "    \"\"\"Creates a new segment for snake.\"\"\"\n",
    "    \n",
    "    global snake\n",
    "    \n",
    "    # create a segment\n",
    "    #TODO - create the segment turtle with appropiate shape\n",
    "    segment = turtle.Turtle()\n",
    "    segment.shape(shapes[1])\n",
    "    segment.speed(0)\n",
    "    #TODO - set the color of the segment turtle to global food_color\n",
    "    segment.color(food_color)\n",
    "    segment.penup()\n",
    "    # position the segment\n",
    "    x, y = #TODO - call get_last_segment_position function\n",
    "    segment.goto(x, y)\n",
    "    \n",
    "    # add this segment into snake list\n",
    "    #TODO - append the segment to global snake list\n",
    "    snake.append(segment)"
   ]
  },
  {
   "cell_type": "code",
   "execution_count": 108,
   "metadata": {},
   "outputs": [],
   "source": [
    "# last segment position\n",
    "\n",
    "def get_last_segment_position():\n",
    "    \n",
    "    # last element -> snake[-1]\n",
    "    #TODO - get the x and y coordinates of the last segment in the snake\n",
    "    x = snake[-1].xcor()\n",
    "    y = snake[-1].ycor()\n",
    "    # direction\n",
    "    # if direction is up -> same x, y is TURTLE_SIZE less\n",
    "    if direction == 'up':\n",
    "        y = y - TURTLE_SIZE\n",
    "    \n",
    "    # if direction is up -> same x, y is TURTLE_SIZE more\n",
    "    elif direction == 'down':\n",
    "        y = y + TURTLE_SIZE #TODO - assign the new y value\n",
    "        \n",
    "    # if direction is right -> same y, x is TURTLE_SIZE less\n",
    "    elif direction == 'right':\n",
    "        x = x - TURTLE_SIZE #TODO - assign the new x value\n",
    "        \n",
    "    # if direction is left -> same y, x is TURTLE_SIZE more\n",
    "    elif direction == 'left':\n",
    "        x =  x + TURTLE_SIZE #TODO - assign the new x value\n",
    "    \n",
    "    return (x, y)#TODO - return a tuple of x and y\n"
   ]
  },
  {
   "cell_type": "code",
   "execution_count": 109,
   "metadata": {},
   "outputs": [],
   "source": [
    "# get a random shape\n",
    "\n",
    "def get_shape():\n",
    "    \n",
    "    index = random.randint(0, len(shapes)-1)\n",
    "    \n",
    "    return shapes[index]\n"
   ]
  },
  {
   "cell_type": "code",
   "execution_count": 110,
   "metadata": {},
   "outputs": [],
   "source": [
    "# get a random color\n",
    "\n",
    "def get_color():\n",
    "    \n",
    "    global food_color\n",
    "    \n",
    "    index = random.randint(0, len(colors)-1) #TODO - get a random integer between 0 and the length of colors -1\n",
    "    color = colors[index]\n",
    "    \n",
    "    food_color = color\n",
    "    \n",
    "    return color\n"
   ]
  },
  {
   "cell_type": "code",
   "execution_count": 111,
   "metadata": {},
   "outputs": [],
   "source": [
    "set_screen()"
   ]
  },
  {
   "cell_type": "code",
   "execution_count": 112,
   "metadata": {},
   "outputs": [],
   "source": [
    "# listen keyboard events\n",
    "listen_events()"
   ]
  },
  {
   "cell_type": "code",
   "execution_count": 113,
   "metadata": {},
   "outputs": [],
   "source": [
    "create_head()"
   ]
  },
  {
   "cell_type": "code",
   "execution_count": 114,
   "metadata": {},
   "outputs": [],
   "source": [
    "create_score()"
   ]
  },
  {
   "cell_type": "code",
   "execution_count": 115,
   "metadata": {},
   "outputs": [],
   "source": [
    "update_screen()"
   ]
  },
  {
   "cell_type": "code",
   "execution_count": null,
   "metadata": {},
   "outputs": [],
   "source": []
  },
  {
   "cell_type": "code",
   "execution_count": 116,
   "metadata": {},
   "outputs": [
    {
     "ename": "Terminator",
     "evalue": "",
     "output_type": "error",
     "traceback": [
      "\u001b[1;31m---------------------------------------------------------------------------\u001b[0m",
      "\u001b[1;31mTerminator\u001b[0m                                Traceback (most recent call last)",
      "\u001b[1;32m<ipython-input-116-4524fbad020d>\u001b[0m in \u001b[0;36m<module>\u001b[1;34m\u001b[0m\n\u001b[0;32m      1\u001b[0m \u001b[1;31m# the last line\u001b[0m\u001b[1;33m\u001b[0m\u001b[1;33m\u001b[0m\u001b[1;33m\u001b[0m\u001b[0m\n\u001b[0;32m      2\u001b[0m \u001b[1;33m\u001b[0m\u001b[0m\n\u001b[1;32m----> 3\u001b[1;33m \u001b[0mturtle\u001b[0m\u001b[1;33m.\u001b[0m\u001b[0mmainloop\u001b[0m\u001b[1;33m(\u001b[0m\u001b[1;33m)\u001b[0m\u001b[1;33m\u001b[0m\u001b[1;33m\u001b[0m\u001b[0m\n\u001b[0m",
      "\u001b[1;32m~\\anaconda3\\envs\\python_intro\\lib\\turtle.py\u001b[0m in \u001b[0;36mmainloop\u001b[1;34m()\u001b[0m\n",
      "\u001b[1;31mTerminator\u001b[0m: "
     ]
    }
   ],
   "source": [
    "# the last line\n",
    "\n",
    "turtle.mainloop()"
   ]
  },
  {
   "cell_type": "code",
   "execution_count": null,
   "metadata": {},
   "outputs": [],
   "source": []
  }
 ],
 "metadata": {
  "kernelspec": {
   "display_name": "Python 3",
   "language": "python",
   "name": "python3"
  },
  "language_info": {
   "codemirror_mode": {
    "name": "ipython",
    "version": 3
   },
   "file_extension": ".py",
   "mimetype": "text/x-python",
   "name": "python",
   "nbconvert_exporter": "python",
   "pygments_lexer": "ipython3",
   "version": "3.8.5"
  }
 },
 "nbformat": 4,
 "nbformat_minor": 5
}
