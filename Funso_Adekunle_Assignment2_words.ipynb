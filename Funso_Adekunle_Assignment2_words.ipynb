{
  "cells": [
    {
      "cell_type": "markdown",
      "metadata": {
        "id": "ngFpt1OF6ZOe"
      },
      "source": [
        "# Assignment 2 - Words"
      ]
    },
    {
      "cell_type": "markdown",
      "metadata": {
        "id": "bC8x6FCf6ZOr"
      },
      "source": [
        "Complete the code with respect to **#TODO** statements."
      ]
    },
    {
      "cell_type": "markdown",
      "metadata": {
        "id": "AFfT6l936ZOs"
      },
      "source": [
        "**Preparation:**\n",
        "\n",
        "To read the words:\n",
        "\n",
        "* open() function\n",
        "    * open(file, mode)\n",
        "    * mode:\n",
        "        * r: read (default)\n",
        "        * a: append\n",
        "        * w: write\n",
        "        * x: create"
      ]
    },
    {
      "cell_type": "code",
      "execution_count": 1,
      "metadata": {
        "id": "C6HiZMeZ6ZOu"
      },
      "outputs": [],
      "source": [
        "# open()\n",
        "\n",
        "file = open('words.txt')"
      ]
    },
    {
      "cell_type": "code",
      "execution_count": 2,
      "metadata": {
        "id": "IWHhYW416ZOz",
        "outputId": "b35175f6-4a18-4a11-f98a-8078176d4e78",
        "colab": {
          "base_uri": "https://localhost:8080/",
          "height": 35
        }
      },
      "outputs": [
        {
          "output_type": "execute_result",
          "data": {
            "text/plain": [
              "'Lorem\\n'"
            ],
            "application/vnd.google.colaboratory.intrinsic+json": {
              "type": "string"
            }
          },
          "metadata": {},
          "execution_count": 2
        }
      ],
      "source": [
        "# let's read the line\n",
        "\n",
        "file.readline()"
      ]
    },
    {
      "cell_type": "code",
      "execution_count": 3,
      "metadata": {
        "id": "VFCQpQrw6ZO2",
        "outputId": "29fae0af-74a5-455b-8702-3be278404f3e",
        "colab": {
          "base_uri": "https://localhost:8080/",
          "height": 35
        }
      },
      "outputs": [
        {
          "output_type": "execute_result",
          "data": {
            "text/plain": [
              "'ipsum\\n'"
            ],
            "application/vnd.google.colaboratory.intrinsic+json": {
              "type": "string"
            }
          },
          "metadata": {},
          "execution_count": 3
        }
      ],
      "source": [
        "# let's read the second line\n",
        "\n",
        "file.readline()"
      ]
    },
    {
      "cell_type": "markdown",
      "metadata": {
        "id": "5RqmLGUt6ZO4"
      },
      "source": [
        "**Special Chars:**\n",
        "* \\n : new line character\n",
        "* \\r : carriage return (enter)"
      ]
    },
    {
      "cell_type": "code",
      "execution_count": 4,
      "metadata": {
        "id": "O22InQEo6ZO6",
        "outputId": "7a9ea13e-8efe-4d02-9ecb-c5b3e90cdcd2",
        "colab": {
          "base_uri": "https://localhost:8080/",
          "height": 35
        }
      },
      "outputs": [
        {
          "output_type": "execute_result",
          "data": {
            "text/plain": [
              "'dolor\\n'"
            ],
            "application/vnd.google.colaboratory.intrinsic+json": {
              "type": "string"
            }
          },
          "metadata": {},
          "execution_count": 4
        }
      ],
      "source": [
        "# run readline\n",
        "\n",
        "line = file.readline()\n",
        "line"
      ]
    },
    {
      "cell_type": "code",
      "execution_count": 5,
      "metadata": {
        "collapsed": true,
        "jupyter": {
          "outputs_hidden": true
        },
        "id": "I96gAxLi6ZO8",
        "outputId": "5f1df442-4786-4c8e-d00b-9d0a825fe8d4",
        "colab": {
          "base_uri": "https://localhost:8080/"
        }
      },
      "outputs": [
        {
          "output_type": "stream",
          "name": "stdout",
          "text": [
            "Lorem\n",
            "\n",
            "ipsum\n",
            "\n",
            "dolor\n",
            "\n",
            "sit\n",
            "\n",
            "amet\n",
            "\n",
            "consectetur\n",
            "\n",
            "adipiscing\n",
            "\n",
            "elit\n",
            "\n",
            "Nulla\n",
            "\n",
            "sodales\n",
            "\n",
            "orci\n",
            "\n",
            "sed\n",
            "\n",
            "nisl\n",
            "\n",
            "tempor\n",
            "\n",
            "tristique\n",
            "\n",
            "Donec\n",
            "\n",
            "commodo\n",
            "\n",
            "non\n",
            "\n",
            "leo\n",
            "\n",
            "quis\n",
            "\n",
            "fermentum\n",
            "\n"
          ]
        }
      ],
      "source": [
        "# print the first 20 lines\n",
        "\n",
        "file = open('words.txt')\n",
        "\n",
        "# we need index -> enumerate\n",
        "\n",
        "for index, line in enumerate(file):\n",
        "    \n",
        "    if index <= 20:\n",
        "        print(line)\n",
        "    "
      ]
    },
    {
      "cell_type": "code",
      "execution_count": 6,
      "metadata": {
        "id": "yE3rc5hI6ZO-",
        "outputId": "e186cc02-dd40-483a-ebaa-f0fe87eb4f71",
        "colab": {
          "base_uri": "https://localhost:8080/"
        }
      },
      "outputs": [
        {
          "output_type": "stream",
          "name": "stdout",
          "text": [
            "['Lorem']\n",
            "['ipsum']\n",
            "['dolor']\n",
            "['sit']\n",
            "['amet']\n",
            "['consectetur']\n",
            "['adipiscing']\n",
            "['elit']\n",
            "['Nulla']\n",
            "['sodales']\n",
            "['orci']\n",
            "['sed']\n",
            "['nisl']\n",
            "['tempor']\n",
            "['tristique']\n",
            "['Donec']\n",
            "['commodo']\n",
            "['non']\n",
            "['leo']\n",
            "['quis']\n",
            "['fermentum']\n"
          ]
        }
      ],
      "source": [
        "# remove new line\n",
        "\n",
        "file = open('words.txt')\n",
        "\n",
        "for index, line in enumerate(file):\n",
        "    \n",
        "    if index <= 20:\n",
        "        \n",
        "        # split() -> splits the text from space chars (space, \\n new line, carriage return)\n",
        "        word_list = line.split()\n",
        "        print(word_list)\n"
      ]
    },
    {
      "cell_type": "markdown",
      "metadata": {
        "id": "vWkC6HEv6ZO_"
      },
      "source": [
        "**Exercise 1:**\n",
        "\n",
        "We will print the words which have number of letters more than 10."
      ]
    },
    {
      "cell_type": "code",
      "execution_count": 7,
      "metadata": {
        "id": "GPgC_TE36ZPB",
        "outputId": "b28c33f4-fb3f-4630-ef22-c057d0392216",
        "colab": {
          "base_uri": "https://localhost:8080/"
        }
      },
      "outputs": [
        {
          "output_type": "stream",
          "name": "stdout",
          "text": [
            "consectetur\n",
            "pellentesque\n",
            "sollicitudin\n",
            "scelerisque\n",
            "ullamcorper\n",
            "condimentum\n",
            "Suspendisse\n"
          ]
        }
      ],
      "source": [
        "# read the file\n",
        "file = open('/content/words.txt')\n",
        "# TODO - Read the words into a file\n",
        "file.readline()\n",
        "line = file.readline()\n",
        "\n",
        "for line in file:\n",
        "    \n",
        "    # split() -> \\n\n",
        "    word_list = line.split() # TODO - split the line\n",
        "    \n",
        "    # word is the first element in list\n",
        "    word = word_list[0] # TODO - get the first element of list\n",
        "    \n",
        "    # check number of letters\n",
        "    # TODO - check if the length of the letter is greater than 10\n",
        "    if len(word) > 10:\n",
        "     print(word)\n",
        "    "
      ]
    },
    {
      "cell_type": "markdown",
      "metadata": {
        "id": "Y826e7tm6ZPC"
      },
      "source": [
        "**Exercise 2:**\n",
        "\n",
        "Define a new function.\n",
        "\n",
        "This function will search for the words which have no vowels in it. (a, e, i, o, u)"
      ]
    },
    {
      "cell_type": "code",
      "execution_count": 8,
      "metadata": {
        "id": "ZSEnTmT56ZPD"
      },
      "outputs": [],
      "source": [
        "\n",
        "def check_for_vowels():\n",
        "    \n",
        "    # read the file\n",
        "    file = open('/content/words.txt')\n",
        "\n",
        "    # TODO - Read the words into a file\n",
        "    file.readline()\n",
        "    line = file.readline()\n",
        "    \n",
        "    for line in file:\n",
        "        \n",
        "        # split() -> \\n\n",
        "        # TODO - split the line\n",
        "         word_list = line.split()\n",
        "\n",
        "        # word is the first element in list\n",
        "        # TODO - get the first element of list\n",
        "         word = word_list[0]\n",
        "        \n",
        "        \n",
        "        # check if included vowel\n",
        "        # TODO - check if the word not in vowels\n",
        "         if not 'a' in word and  \\\n",
        "            not 'e' in word and  \\\n",
        "            not 'i' in word and  \\\n",
        "            not 'o' in word and  \\\n",
        "            not 'u' in word:\n",
        "            print(word) \n"
      ]
    },
    {
      "cell_type": "code",
      "execution_count": 9,
      "metadata": {
        "id": "npxTgzEe6ZPE",
        "outputId": "1450f37f-06f2-49a5-e5a0-182cc7f5f3ad",
        "colab": {
          "base_uri": "https://localhost:8080/"
        }
      },
      "outputs": [
        {
          "output_type": "stream",
          "name": "stdout",
          "text": [
            "In\n",
            "trylyk\n",
            "Antryl\n"
          ]
        }
      ],
      "source": [
        "check_for_vowels()"
      ]
    },
    {
      "cell_type": "code",
      "execution_count": 10,
      "metadata": {
        "id": "BgFLjeb76ZPE"
      },
      "outputs": [],
      "source": [
        "def check_for_vowels():\n",
        "    \n",
        "    # read the file\n",
        "    file = open('/content/words.txt')\n",
        "    # TODO - Read the words into a file\n",
        "    file.readline()\n",
        "    line = file.readline()\n",
        "    \n",
        "    for line in file:\n",
        "        \n",
        "        # split() -> \\n\n",
        "        # TODO - split the line\n",
        "        word_list = line.split()\n",
        "        # word is the first element in list\n",
        "        # TODO - get the first element of list\n",
        "        word = word_list[0]\n",
        "        # convert into lower case\n",
        "        # TODO - convert the word into lower case\n",
        "        word = word.lower()\n",
        "        # check if included vowel\n",
        "        # TODO - check if the word not in vowels\n",
        "        if not 'a' in word and  \\\n",
        "            not 'e' in word and  \\\n",
        "            not 'i' in word and  \\\n",
        "            not 'o' in word and  \\\n",
        "            not 'u' in word:\n",
        "            print(word)  "
      ]
    },
    {
      "cell_type": "code",
      "execution_count": 11,
      "metadata": {
        "id": "KMiNNFpF6ZPF",
        "outputId": "29a411fb-0670-4c11-fe43-533011d0f1dc",
        "colab": {
          "base_uri": "https://localhost:8080/"
        }
      },
      "outputs": [
        {
          "output_type": "stream",
          "name": "stdout",
          "text": [
            "trylyk\n"
          ]
        }
      ],
      "source": [
        "check_for_vowels()"
      ]
    },
    {
      "cell_type": "markdown",
      "metadata": {
        "id": "n3jY4gyD6ZPG"
      },
      "source": [
        "Check for words which includes 'ae' together and in this order. "
      ]
    },
    {
      "cell_type": "code",
      "execution_count": 12,
      "metadata": {
        "id": "nBLm2ukn6ZPH"
      },
      "outputs": [],
      "source": [
        "def check_for_ae():\n",
        "    \n",
        "    # read the file\n",
        "    # TODO - Read the words into a file\n",
        "    file = open('/content/words.txt')\n",
        "\n",
        "    for line in file:\n",
        "        \n",
        "        # split() -> \\n\n",
        "        # TODO - split the line\n",
        "        word_list = line.split()\n",
        "\n",
        "        # word is the first element in list\n",
        "        # TODO - get the first element of list\n",
        "        word = word_list[0]\n",
        "        # convert into lower case\n",
        "        # TODO - convert the word into lower case\n",
        "        word = word.lower()\n",
        "        # check if included vowel\n",
        "        # TODO - check if 'ae' is in the word\n",
        "        if 'ae' in word:\n",
        "          print(word)\n"
      ]
    },
    {
      "cell_type": "code",
      "execution_count": 13,
      "metadata": {
        "id": "8stkDqVP6ZPJ",
        "outputId": "99f7f794-fba4-4ec9-b2c4-e47476f719aa",
        "colab": {
          "base_uri": "https://localhost:8080/"
        }
      },
      "outputs": [
        {
          "output_type": "stream",
          "name": "stdout",
          "text": [
            "vitae\n",
            "praesent\n",
            "aenean\n",
            "maecenas\n"
          ]
        }
      ],
      "source": [
        "check_for_ae()"
      ]
    },
    {
      "cell_type": "markdown",
      "metadata": {
        "id": "RaFZU88b6ZPK"
      },
      "source": [
        "**Exercise 3:**\n",
        "\n",
        "We will define a function **is_any_forbidden_letter**.\n",
        "\n",
        "It will take letters which are forbidden and a text.\n",
        "\n",
        "It will check if this text included any of these forbidden letters.\n",
        "\n",
        "bool function -> True, False"
      ]
    },
    {
      "cell_type": "code",
      "execution_count": 14,
      "metadata": {
        "id": "SP0GXPjj6ZPK"
      },
      "outputs": [],
      "source": [
        "def is_any_forbidden_letter(text, forbidden_letters):\n",
        "    \n",
        "    for letter in text:\n",
        "        # TODO - check if letter in forbidden letters\n",
        "        for letter in text:\n",
        "        # TODO - return true\n",
        "          if letter in forbidden_letters:\n",
        "           return True\n",
        "        else:\n",
        "        # TODO - return false\n",
        "         return False"
      ]
    },
    {
      "cell_type": "code",
      "execution_count": 15,
      "metadata": {
        "id": "Yzv1iO1K6ZPL",
        "outputId": "7187f2d1-7f4e-4982-ccd7-320770d5dbdd",
        "colab": {
          "base_uri": "https://localhost:8080/"
        }
      },
      "outputs": [
        {
          "output_type": "execute_result",
          "data": {
            "text/plain": [
              "True"
            ]
          },
          "metadata": {},
          "execution_count": 15
        }
      ],
      "source": [
        "sentence = 'This is a forbidden sentence.'\n",
        "forbidden_letters = 'ae'\n",
        "\n",
        "is_any_forbidden_letter(sentence, forbidden_letters)"
      ]
    },
    {
      "cell_type": "code",
      "execution_count": 16,
      "metadata": {
        "id": "BYKmlItF6ZPM",
        "outputId": "cbd366c0-4102-45f2-dd81-a61bea53f4c0",
        "colab": {
          "base_uri": "https://localhost:8080/"
        }
      },
      "outputs": [
        {
          "output_type": "execute_result",
          "data": {
            "text/plain": [
              "False"
            ]
          },
          "metadata": {},
          "execution_count": 16
        }
      ],
      "source": [
        "sentence = 'This is a forbidden sentence.'\n",
        "forbidden_letters = 'xy'\n",
        "\n",
        "is_any_forbidden_letter(sentence, forbidden_letters)"
      ]
    },
    {
      "cell_type": "markdown",
      "metadata": {
        "id": "xNDDkKRY6ZPN"
      },
      "source": [
        "**Exercise 4:**\n",
        "\n",
        "Define a function named **only_uses_these_letters**\n",
        "\n",
        "It will take letters and a text.\n",
        "\n",
        "It will check if this text uses only these letters.\n",
        "\n",
        "It the text uses only these letters -> True\n",
        "\n",
        "bool function -> True, False"
      ]
    },
    {
      "cell_type": "code",
      "execution_count": 17,
      "metadata": {
        "id": "wngMlmJR6ZPN"
      },
      "outputs": [],
      "source": [
        "def only_uses_these_letters(text, letters):\n",
        "    \n",
        "    for char in text:\n",
        "        # if the char in letters or not\n",
        "        # check if char is an alphabetical letter -> isalpha()\n",
        "        # TODO - check if char is alphabetical letter and it is not in letters\n",
        "        if char.isalpha() and not char in letters:\n",
        "          \n",
        "        # TODO - return false\n",
        "          return False\n",
        "    else:\n",
        "        # TODO - return true\n",
        "        return True"
      ]
    },
    {
      "cell_type": "code",
      "execution_count": 18,
      "metadata": {
        "id": "zeI7lj-O6ZPO",
        "outputId": "29173d46-ae7e-4943-84aa-fa2100bc9008",
        "colab": {
          "base_uri": "https://localhost:8080/"
        }
      },
      "outputs": [
        {
          "output_type": "execute_result",
          "data": {
            "text/plain": [
              "True"
            ]
          },
          "metadata": {},
          "execution_count": 18
        }
      ],
      "source": [
        "sentence = 'check'\n",
        "letters = 'chek'\n",
        "\n",
        "only_uses_these_letters(sentence, letters)"
      ]
    },
    {
      "cell_type": "code",
      "execution_count": 19,
      "metadata": {
        "id": "_99w31IU6ZPP",
        "outputId": "559bae92-ef4b-44c5-9d27-a4c6fdd17fc3",
        "colab": {
          "base_uri": "https://localhost:8080/"
        }
      },
      "outputs": [
        {
          "output_type": "execute_result",
          "data": {
            "text/plain": [
              "False"
            ]
          },
          "metadata": {},
          "execution_count": 19
        }
      ],
      "source": [
        "sentence = 'check this'\n",
        "letters = 'chek'\n",
        "\n",
        "only_uses_these_letters(sentence, letters)"
      ]
    },
    {
      "cell_type": "markdown",
      "metadata": {
        "id": "lQD9l7dH6ZPQ"
      },
      "source": [
        "**Exercise 5:**\n",
        "\n",
        "use the function E4, check for Lorem words using only 'ens' letters."
      ]
    },
    {
      "cell_type": "code",
      "execution_count": 20,
      "metadata": {
        "id": "bfo8dDR56ZPQ"
      },
      "outputs": [],
      "source": [
        "def only_uses_these_letters_lorem(letters):\n",
        "    \n",
        "    # read the file\n",
        "    # TODO - Read the words into a file\n",
        "    file = open ('/content/words.txt')\n",
        "    for line in file:\n",
        "        \n",
        "        # split() -> \\n\n",
        "        # TODO - split the line\n",
        "        word_list = line.split()\n",
        "        \n",
        "        # word is the first element in list\n",
        "        # TODO - get the first element of list\n",
        "        word = word_list[0]\n",
        "        # convert into lower case\n",
        "        # TODO - convert the word into lower case\n",
        "        word = word.lower()\n",
        "        # TODO - check if the word only uses these letters\n",
        "        if only_uses_these_letters(word, letters):\n",
        "          print(word)\n",
        "        \n",
        "    "
      ]
    },
    {
      "cell_type": "code",
      "execution_count": 21,
      "metadata": {
        "id": "vKifVdAI6ZPR",
        "outputId": "6aaacfad-cc27-47a2-9262-82e707e72ba6",
        "colab": {
          "base_uri": "https://localhost:8080/"
        }
      },
      "outputs": [
        {
          "output_type": "stream",
          "name": "stdout",
          "text": [
            "sesse\n",
            "nesnes\n",
            "senesses\n"
          ]
        }
      ],
      "source": [
        "letters = 'ens'\n",
        "only_uses_these_letters_lorem(letters)"
      ]
    },
    {
      "cell_type": "markdown",
      "metadata": {
        "id": "eb-yAPPk6ZPR"
      },
      "source": [
        "**Exercise 6:**\n",
        "\n",
        "Define a function named **uses_all**.\n",
        "\n",
        "It will take a text and letters.\n",
        "\n",
        "If the text uses all the letter at least once, it will return True."
      ]
    },
    {
      "cell_type": "code",
      "execution_count": 22,
      "metadata": {
        "id": "QBmBIzFg6ZPS"
      },
      "outputs": [],
      "source": [
        "\n",
        "def uses_all(text, letters):\n",
        "    \n",
        "    it_uses_all = True\n",
        "    \n",
        "    for letter in letters :\n",
        "        # if letter is not text -> text is not using this letter\n",
        "        # TODO - check if letter is not in text\n",
        "        if not letter in text:\n",
        "        # TODO - assign false to it_uses_all\n",
        "          it_uses_all = False \n",
        "    # loop finishes\n",
        "    # TODO - return it_uses_all\n",
        "    return it_uses_all\n"
      ]
    },
    {
      "cell_type": "code",
      "execution_count": 23,
      "metadata": {
        "id": "EYBSLDGW6ZPS",
        "outputId": "161da600-1da8-4647-ab4f-ab0da64f9425",
        "colab": {
          "base_uri": "https://localhost:8080/"
        }
      },
      "outputs": [
        {
          "output_type": "execute_result",
          "data": {
            "text/plain": [
              "True"
            ]
          },
          "metadata": {},
          "execution_count": 23
        }
      ],
      "source": [
        "letters = 'abd'\n",
        "\n",
        "text = 'This is a bold sentence.'\n",
        "\n",
        "uses_all(text, letters)"
      ]
    },
    {
      "cell_type": "code",
      "execution_count": 24,
      "metadata": {
        "id": "jDrKhL8R6ZPT",
        "outputId": "cb1a02c5-ddcb-4b9d-ffbb-eb31a567d7c0",
        "colab": {
          "base_uri": "https://localhost:8080/"
        }
      },
      "outputs": [
        {
          "output_type": "execute_result",
          "data": {
            "text/plain": [
              "True"
            ]
          },
          "metadata": {},
          "execution_count": 24
        }
      ],
      "source": [
        "letters = 'abcd'\n",
        "\n",
        "text = 'This is a bold sentence.'\n",
        "\n",
        "uses_all(text, letters)"
      ]
    },
    {
      "cell_type": "code",
      "execution_count": 25,
      "metadata": {
        "id": "heE78Srf6ZPU",
        "outputId": "efce98cd-c721-4fea-cd31-dffd71776dd0",
        "colab": {
          "base_uri": "https://localhost:8080/"
        }
      },
      "outputs": [
        {
          "output_type": "execute_result",
          "data": {
            "text/plain": [
              "False"
            ]
          },
          "metadata": {},
          "execution_count": 25
        }
      ],
      "source": [
        "letters = 'abdf'\n",
        "\n",
        "text = 'This is a bold sentence.'\n",
        "\n",
        "uses_all(text, letters)"
      ]
    },
    {
      "cell_type": "markdown",
      "metadata": {
        "id": "AP8o-xqz6ZPU"
      },
      "source": [
        "**Exercise 7:**\n",
        "\n",
        "Use the function E6 and for Lorem letters check:\n",
        "\n",
        "The words using all the letters in 'aei'."
      ]
    },
    {
      "cell_type": "code",
      "execution_count": 26,
      "metadata": {
        "id": "iNV6IyDl6ZPV"
      },
      "outputs": [],
      "source": [
        "def uses_all_lorem(letters):\n",
        "    \n",
        "    # read the file\n",
        "    # TODO - Read the words into a file\n",
        "    file = open('/content/words.txt')\n",
        "    for line in file:\n",
        "        \n",
        "        # split() -> \\n\n",
        "        # TODO - split the line\n",
        "        word_list = line.split()\n",
        "\n",
        "        # word is the first element in list\n",
        "        # TODO - get the first element of list\n",
        "        word = word_list[0]\n",
        "        \n",
        "        # convert into lower case\n",
        "        # TODO - convert the word into lower case\n",
        "        word = word.lower()\n",
        "        \n",
        "        # TODO - check if the word uses all the letters\n",
        "        \n",
        "        if uses_all(word, letters):\n",
        "          print(word)"
      ]
    },
    {
      "cell_type": "code",
      "execution_count": 27,
      "metadata": {
        "id": "gzhLF_8A6ZPW",
        "outputId": "92f8f610-15c6-4494-ea5d-9a7044affd67",
        "colab": {
          "base_uri": "https://localhost:8080/"
        }
      },
      "outputs": [
        {
          "output_type": "stream",
          "name": "stdout",
          "text": [
            "feugiat\n",
            "penatibus\n",
            "parturient\n",
            "venenatis\n",
            "vitae\n",
            "aliquet\n",
            "sapien\n",
            "viverra\n",
            "vehicula\n",
            "habitasse\n"
          ]
        }
      ],
      "source": [
        "letters = 'aei'\n",
        "uses_all_lorem(letters)"
      ]
    },
    {
      "cell_type": "markdown",
      "metadata": {
        "id": "yxA2LSSO6ZPX"
      },
      "source": [
        "**Exercise 8:**\n",
        "\n",
        "Use funtions from:\n",
        "* E4\n",
        "* E6\n",
        "\n",
        "To find the Lorem words which uses only `fir` letters and use them all.\n",
        "\n",
        "The function name will be **only_uses_all**."
      ]
    },
    {
      "cell_type": "code",
      "execution_count": 28,
      "metadata": {
        "id": "hlvzA9uC6ZPX"
      },
      "outputs": [],
      "source": [
        "\n",
        "def only_uses_all(letters):\n",
        "    \n",
        "    # read the file\n",
        "    # TODO - Read the words into a file\n",
        "    file = open('/content/words.txt')\n",
        "\n",
        "    for line in file:\n",
        "        \n",
        "        # split() -> \\n\n",
        "        # TODO - split the line\n",
        "        word_list = line.split()\n",
        "\n",
        "        # word is the first element in list\n",
        "        # TODO - get the first element of list\n",
        "        word = word_list[0]\n",
        "        \n",
        "        # convert into lower case\n",
        "        # TODO - convert the word into lower case\n",
        "        word = word.lower()\n",
        "        \n",
        "        # TODO - check if the word uses only these letters and uses them all\n",
        "        if only_uses_these_letters(word, letters) and uses_all(word, letters):\n",
        "          print(word)\n",
        "        \n",
        "    "
      ]
    },
    {
      "cell_type": "code",
      "execution_count": 29,
      "metadata": {
        "id": "Gi458ngr6ZPY",
        "outputId": "20e26906-dff6-4002-bc54-21aae810518c",
        "colab": {
          "base_uri": "https://localhost:8080/"
        }
      },
      "outputs": [
        {
          "output_type": "stream",
          "name": "stdout",
          "text": [
            "frifirri\n"
          ]
        }
      ],
      "source": [
        "letters = 'fir'\n",
        "\n",
        "only_uses_all(letters)"
      ]
    },
    {
      "cell_type": "markdown",
      "metadata": {
        "id": "C8S4Nw9f6ZPY"
      },
      "source": [
        "**Exercise 9:**\n",
        "\n",
        "**ordered_word**: if the letters in a word is in alphabetical order.\n",
        "\n",
        "Define a function named **is_ordered_word**.\n",
        "\n",
        "It will take a string parameter as text.\n",
        "\n",
        "It will return True if it is an ordered word.\n",
        "\n",
        "Ex: abc, agor, def"
      ]
    },
    {
      "cell_type": "code",
      "execution_count": 30,
      "metadata": {
        "id": "1KIajTm16ZPZ"
      },
      "outputs": [],
      "source": [
        "def is_ordered_word(word):\n",
        "    \n",
        "    # previous letter is the first letter in word\n",
        "    prev = word[0]# TODO - assign the first letter in word to prev\n",
        "    \n",
        "    for letter in word:\n",
        "        \n",
        "        # check if prev is smaller\n",
        "        # TODO - check if the letter is smaller than prev\n",
        "        if letter < prev:\n",
        "            \n",
        "        # TODO - return false\n",
        "            return False \n",
        "        # reassign the previous as the current letter\n",
        "        prev = letters# TODO - assign the current letter to prev\n",
        "        \n",
        "    # return True -> because loop has completed\n",
        "    return True\n",
        "    "
      ]
    },
    {
      "cell_type": "code",
      "execution_count": 31,
      "metadata": {
        "id": "IVUFBRCH6ZPa",
        "outputId": "ebd66317-87d0-4873-ddff-d273763bc6ee",
        "colab": {
          "base_uri": "https://localhost:8080/"
        }
      },
      "outputs": [
        {
          "output_type": "execute_result",
          "data": {
            "text/plain": [
              "True"
            ]
          },
          "metadata": {},
          "execution_count": 31
        }
      ],
      "source": [
        "word = 'agor'\n",
        "\n",
        "is_ordered_word(word)"
      ]
    },
    {
      "cell_type": "code",
      "execution_count": 32,
      "metadata": {
        "id": "8EpFiRee6ZPa",
        "outputId": "d84cdc7d-4db1-41d3-fa7e-d02fd25064ed",
        "colab": {
          "base_uri": "https://localhost:8080/"
        }
      },
      "outputs": [
        {
          "output_type": "execute_result",
          "data": {
            "text/plain": [
              "True"
            ]
          },
          "metadata": {},
          "execution_count": 32
        }
      ],
      "source": [
        "word = 'python'\n",
        "\n",
        "is_ordered_word(word)"
      ]
    },
    {
      "cell_type": "code",
      "execution_count": 33,
      "metadata": {
        "id": "xAAYzvov6ZPb",
        "outputId": "2505c3c3-1d86-483c-df9b-cf7929d5ad91",
        "colab": {
          "base_uri": "https://localhost:8080/"
        }
      },
      "outputs": [
        {
          "output_type": "execute_result",
          "data": {
            "text/plain": [
              "True"
            ]
          },
          "metadata": {},
          "execution_count": 33
        }
      ],
      "source": [
        "word = 'hnty'\n",
        "\n",
        "is_ordered_word(word)"
      ]
    },
    {
      "cell_type": "markdown",
      "metadata": {
        "id": "KaAySLCu6ZPb"
      },
      "source": [
        "**Exercise 10:**\n",
        "\n",
        "Use function in E9 to find out which Lorem words are ordered."
      ]
    },
    {
      "cell_type": "code",
      "execution_count": 34,
      "metadata": {
        "id": "da_IIOeu6ZPc"
      },
      "outputs": [],
      "source": [
        "def is_ordered_word_lorem():\n",
        "    \n",
        "    # read the file\n",
        "    # TODO - Read the words into a file\n",
        "    file = open('/content/words.txt')\n",
        "    \n",
        "    for line in file:\n",
        "        \n",
        "        # split() -> \\n\n",
        "        # TODO - split the line\n",
        "      word_list = line.split()\n",
        "\n",
        "        # word is the first element in list\n",
        "        # TODO - get the first element of list\n",
        "      word = word_list[0]\n",
        "        \n",
        "        # convert into lower case\n",
        "        # TODO - convert the word into lower case\n",
        "      word = word.lower()\n",
        "        \n",
        "        # check if this word is an ordered word\n",
        "        # TODO - check if the word is an ordered word\n",
        "      if is_ordered_word(word):\n",
        "          print(word)\n",
        "    "
      ]
    },
    {
      "cell_type": "code",
      "execution_count": 35,
      "metadata": {
        "id": "T8v3ob7R6ZPc",
        "outputId": "ac8ae005-2d59-4674-f553-55e40d44648d",
        "colab": {
          "base_uri": "https://localhost:8080/"
        }
      },
      "outputs": [
        {
          "output_type": "stream",
          "name": "stdout",
          "text": [
            "ipsum\n",
            "dolor\n",
            "sit\n",
            "elit\n",
            "nisl\n",
            "non\n",
            "quis\n",
            "in\n",
            "tortor\n",
            "ut\n",
            "at\n",
            "in\n",
            "eu\n",
            "mi\n",
            "nisi\n",
            "rutrum\n",
            "purus\n",
            "et\n",
            "dis\n",
            "mus\n",
            "proin\n",
            "mollis\n",
            "dui\n",
            "turpis\n",
            "risus\n",
            "ex\n",
            "a\n",
            "porttitor\n",
            "eros\n",
            "dignissim\n",
            "est\n",
            "enim\n",
            "justo\n",
            "cursus\n",
            "trylyk\n",
            "antryl\n"
          ]
        }
      ],
      "source": [
        "is_ordered_word_lorem()"
      ]
    },
    {
      "cell_type": "code",
      "execution_count": 36,
      "metadata": {
        "id": "9lTzWjaQ6ZPd",
        "outputId": "d0f2d0f0-a40d-4f3a-fa5d-c541a94b92b3",
        "colab": {
          "base_uri": "https://localhost:8080/"
        }
      },
      "outputs": [
        {
          "output_type": "execute_result",
          "data": {
            "text/plain": [
              "False"
            ]
          },
          "metadata": {},
          "execution_count": 36
        }
      ],
      "source": [
        "word = 'Nam'\n",
        "\n",
        "is_ordered_word(word)"
      ]
    },
    {
      "cell_type": "code",
      "execution_count": 37,
      "metadata": {
        "id": "ycpWm0Ax6ZPe",
        "outputId": "ddf8e667-b04d-4205-ea28-1a99ceaf7fa3",
        "colab": {
          "base_uri": "https://localhost:8080/"
        }
      },
      "outputs": [
        {
          "output_type": "execute_result",
          "data": {
            "text/plain": [
              "True"
            ]
          },
          "metadata": {},
          "execution_count": 37
        }
      ],
      "source": [
        "'N' < 'a'"
      ]
    },
    {
      "cell_type": "code",
      "execution_count": 37,
      "metadata": {
        "id": "athUpzlW6ZPf"
      },
      "outputs": [],
      "source": [
        ""
      ]
    }
  ],
  "metadata": {
    "kernelspec": {
      "display_name": "Python 3 (ipykernel)",
      "language": "python",
      "name": "python3"
    },
    "language_info": {
      "codemirror_mode": {
        "name": "ipython",
        "version": 3
      },
      "file_extension": ".py",
      "mimetype": "text/x-python",
      "name": "python",
      "nbconvert_exporter": "python",
      "pygments_lexer": "ipython3",
      "version": "3.9.7"
    },
    "colab": {
      "name": "Funso_Adekunle_Assignment2_words.ipynb",
      "provenance": [],
      "collapsed_sections": []
    }
  },
  "nbformat": 4,
  "nbformat_minor": 0
}